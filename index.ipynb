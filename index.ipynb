{
 "cells": [
  {
   "cell_type": "markdown",
   "metadata": {},
   "source": [
    "# Looking Up Transactions"
   ]
  },
  {
   "cell_type": "code",
   "execution_count": 1,
   "metadata": {},
   "outputs": [
    {
     "name": "stdout",
     "output_type": "stream",
     "text": [
      "version: 1\n",
      "tx_ins:\n",
      "cbf43825e0b92ba3bfabaec509e14ee9132df1e92ffdfc6636f848fbf0537c13:0\n",
      "590133d8ac653229dfd8d72d2a81564502051f21554f919ae59ac27be7727451:1\n",
      "\n",
      "tx_outs:\n",
      "42505594:OP_DUP OP_HASH160 a802fc56c704ce87c42d7c92eb75e7896bdc41ae OP_EQUALVERIFY OP_CHECKSIG \n",
      "6181285:OP_DUP OP_HASH160 e82bd75c9c662c3f5700b33fec8a676b6e9391d5 OP_EQUALVERIFY OP_CHECKSIG \n",
      "\n",
      "locktime: 0\n",
      "\n"
     ]
    }
   ],
   "source": [
    "# Example of how to look up a transaction using fetch_tx() method\n",
    "\n",
    "from tx import TxIn\n",
    "\n",
    "prev_tx = bytes.fromhex('d1c789a9c60383bf715f3f6ad9d14b91fe55f3deb369fe5d9280cb1a01793f81') \n",
    "tx_in = TxIn(prev_tx, 0, b'', 0xffffffff)\n",
    "print(tx_in.fetch_tx())"
   ]
  },
  {
   "cell_type": "markdown",
   "metadata": {},
   "source": [
    "### Try it\n",
    "\n",
    "\n",
    "#### What is the value and scriptPubKey of the 0th output of this transaction?\n",
    "```\n",
    "d1c789a9c60383bf715f3f6ad9d14b91fe55f3deb369fe5d9280cb1a01793f81\n",
    "```"
   ]
  },
  {
   "cell_type": "code",
   "execution_count": 11,
   "metadata": {},
   "outputs": [
    {
     "name": "stdout",
     "output_type": "stream",
     "text": [
      "cbf43825e0b92ba3bfabaec509e14ee9132df1e92ffdfc6636f848fbf0537c13:0\n",
      "17608602:OP_DUP OP_HASH160 08907afd35beea3d5594f2154faef8be78b78a5e OP_EQUALVERIFY OP_CHECKSIG \n",
      "67586778:OP_DUP OP_HASH160 3a30b5fc5c68fc3306565a0b2d4c19732bdc9a67 OP_EQUALVERIFY OP_CHECKSIG \n",
      "150759598:OP_DUP OP_HASH160 badd2727b74d13799bb85f942ef00c29d8847dc8 OP_EQUALVERIFY OP_CHECKSIG \n",
      "197655081:OP_DUP OP_HASH160 23898e8559f1626cf7cc6f444ab8f6e836feaa74 OP_EQUALVERIFY OP_CHECKSIG \n",
      "257630181:OP_DUP OP_HASH160 f771e5aecb14077b5561d9720d805203a3a34994 OP_EQUALVERIFY OP_CHECKSIG \n",
      "281717284:OP_DUP OP_HASH160 23b88e7eb1a352851ca868351a6380062d882bea OP_EQUALVERIFY OP_CHECKSIG \n",
      "724264414:OP_DUP OP_HASH160 2bd5f00b05f3c084f6b43f1087936cd4d36a1e2a OP_EQUALVERIFY OP_CHECKSIG \n",
      "2076937800:OP_DUP OP_HASH160 456238878da5da75c9c1e2c238b1f7dc4dc1cb85 OP_EQUALVERIFY OP_CHECKSIG \n",
      "2353496682:OP_DUP OP_HASH160 b03cc3b3a70b6b1ad0fdb622d4a19a6275d875be OP_EQUALVERIFY OP_CHECKSIG \n",
      "2528642413:OP_DUP OP_HASH160 4156e99a1f60b889375dede0b01b1a203e2422fe OP_EQUALVERIFY OP_CHECKSIG \n"
     ]
    }
   ],
   "source": [
    "from tx import TxIn\n",
    "\n",
    "prev_tx = bytes.fromhex('d1c789a9c60383bf715f3f6ad9d14b91fe55f3deb369fe5d9280cb1a01793f81') \n",
    "prev_index = 0\n",
    "\n",
    "# create the transaction input (use blank script_sig and 0xffffffff for sequence)\n",
    "tx_in = TxIn(prev_tx, 0, b'', 0xffffffff)\n",
    "print(tx_in.fetch_tx().tx_ins[0])\n",
    "    prev_tx = tx_in.fetch_tx().tx_ins[0].prev_tx\n",
    "    prev_index = tx_in.fetch_tx().tx_ins[0].prev_index\n",
    "    tx_in = TxIn(prev_tx, prev_index, b'', 0xffffffff)\n",
    "    print(tx_in.fetch_tx().tx_outs[prev_index])\n",
    "# fetch the transaction\n",
    "# grab the output at the index\n",
    "# show the amount\n",
    "# show the script_pubkey"
   ]
  },
  {
   "cell_type": "code",
   "execution_count": null,
   "metadata": {},
   "outputs": [],
   "source": []
  },
  {
   "cell_type": "markdown",
   "metadata": {},
   "source": [
    "### Test Driven Exercise"
   ]
  },
  {
   "cell_type": "code",
   "execution_count": null,
   "metadata": {},
   "outputs": [],
   "source": [
    "from tx import TxIn\n",
    "\n",
    "class TxIn(TxIn):\n",
    "\n",
    "    def value(self, testnet=False):\n",
    "        '''Get the outpoint value by looking up the tx hash on libbitcoin server\n",
    "        Returns the amount in satoshi\n",
    "        '''\n",
    "        # use self.fetch_tx to get the transaction\n",
    "        tx = self.fetch_tx(testnet=testnet)\n",
    "        # get the output at self.prev_index\n",
    "        # return the amount property\n",
    "        return tx.tx_outs[self.prev_index].amount\n",
    "\n",
    "    def script_pubkey(self, testnet=False):\n",
    "        '''Get the scriptPubKey by looking up the tx hash on libbitcoin server\n",
    "        Returns the binary scriptpubkey\n",
    "        '''\n",
    "        # use self.fetch_tx to get the transaction\n",
    "        tx = self.fetch_tx(testnet=testnet)\n",
    "        # get the output at self.prev_index\n",
    "        # return the script_pubkey property and serialize\n",
    "        return tx.tx_outs[self.prev_index].script_pubkey"
   ]
  }
 ],
 "metadata": {
  "kernelspec": {
   "display_name": "Python 3",
   "language": "python",
   "name": "python3"
  },
  "language_info": {
   "codemirror_mode": {
    "name": "ipython",
    "version": 3
   },
   "file_extension": ".py",
   "mimetype": "text/x-python",
   "name": "python",
   "nbconvert_exporter": "python",
   "pygments_lexer": "ipython3",
   "version": "3.6.4"
  }
 },
 "nbformat": 4,
 "nbformat_minor": 2
}
