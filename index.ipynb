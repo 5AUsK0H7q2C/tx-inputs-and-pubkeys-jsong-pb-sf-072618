{
 "cells": [
  {
   "cell_type": "markdown",
   "metadata": {},
   "source": [
    "# Looking Up Transactions"
   ]
  },
  {
   "cell_type": "code",
   "execution_count": 1,
   "metadata": {},
   "outputs": [
    {
     "name": "stdout",
     "output_type": "stream",
     "text": [
      "version: 1\n",
      "tx_ins:\n",
      "cbf43825e0b92ba3bfabaec509e14ee9132df1e92ffdfc6636f848fbf0537c13:0\n",
      "590133d8ac653229dfd8d72d2a81564502051f21554f919ae59ac27be7727451:1\n",
      "\n",
      "tx_outs:\n",
      "42505594:OP_DUP OP_HASH160 a802fc56c704ce87c42d7c92eb75e7896bdc41ae OP_EQUALVERIFY OP_CHECKSIG \n",
      "6181285:OP_DUP OP_HASH160 e82bd75c9c662c3f5700b33fec8a676b6e9391d5 OP_EQUALVERIFY OP_CHECKSIG \n",
      "\n",
      "locktime: 0\n",
      "\n"
     ]
    }
   ],
   "source": [
    "# Example of how to look up a transaction using fetch_tx() method\n",
    "\n",
    "from tx import TxIn\n",
    "\n",
    "prev_tx = bytes.fromhex('d1c789a9c60383bf715f3f6ad9d14b91fe55f3deb369fe5d9280cb1a01793f81') \n",
    "tx_in = TxIn(prev_tx, 0, b'', 0xffffffff)\n",
    "print(tx_in.fetch_tx())"
   ]
  },
  {
   "cell_type": "markdown",
   "metadata": {},
   "source": [
    "### Try it\n",
    "\n",
    "\n",
    "#### What is the value and scriptPubKey of the 0th output of this transaction?\n",
    "```\n",
    "d1c789a9c60383bf715f3f6ad9d14b91fe55f3deb369fe5d9280cb1a01793f81\n",
    "```"
   ]
  },
  {
   "cell_type": "code",
   "execution_count": 8,
   "metadata": {},
   "outputs": [
    {
     "name": "stdout",
     "output_type": "stream",
     "text": [
      "cbf43825e0b92ba3bfabaec509e14ee9132df1e92ffdfc6636f848fbf0537c13:0\n",
      "57fe913d2c269e370b23768ded3ebd5e431b147947a60d0267863c1138c99a44:0\n",
      "0e5d5a208569de6ab5f193029460ac0a10fa10863b90dd2d04b8c52fc1e8ba53:1\n",
      "631f5892600223e31de861d818e138aa1c3eb7d67ef1057cb106ef8437e5d549:0\n",
      "7a1fb4b67500399f1725672ddd06a5d95f1830890172002bf7dbe5f0a4773ff8:1\n",
      "a814ee98beccf8bf9f45288ee36ab61bc78e7ea686d28e7159785a38f4b85305:0\n",
      "8ebb18a2d5f939c35061d33f189eb8cec9baa15d53e88714e4629a902e0406f1:2\n",
      "da933b00521d86c0cd01652b09fb57b1a1617f0f4fbc030268e68bce0a586477:3\n",
      "ac10c6ab8faf161f74d14ccd53c9c9e10b3ec75b9ea3433c3eaf82ee321ac18a:5\n",
      "352e9449c0fcc882ee8fd5a3584ed69c8e175e3bee38163d044f28f82c6c0a0a:2\n",
      "3375547f64a06cfc05ec3098076524e5e2491fcb72a5b6e62f62cde0521f9a5f:0\n"
     ]
    }
   ],
   "source": [
    "from tx import TxIn\n",
    "\n",
    "prev_tx = bytes.fromhex('d1c789a9c60383bf715f3f6ad9d14b91fe55f3deb369fe5d9280cb1a01793f81') \n",
    "prev_index = 0\n",
    "\n",
    "# create the transaction input (use blank script_sig and 0xffffffff for sequence)\n",
    "tx_in = TxIn(prev_tx, 0, b'', 0xffffffff)\n",
    "print(tx_in.fetch_tx().tx_ins[0])\n",
    "for _ in range(10):\n",
    "    prev_tx = tx_in.fetch_tx().tx_ins[0].prev_tx\n",
    "    prev\n",
    "    tx_in = TxIn(tx_in.fetch_tx().tx_ins[0].prev_tx, 0, b'', 0xffffffff)\n",
    "    print(tx_in.fetch_tx().tx_out[])\n",
    "# fetch the transaction\n",
    "# grab the output at the index\n",
    "# show the amount\n",
    "# show the script_pubkey"
   ]
  },
  {
   "cell_type": "code",
   "execution_count": null,
   "metadata": {},
   "outputs": [],
   "source": []
  },
  {
   "cell_type": "markdown",
   "metadata": {},
   "source": [
    "### Test Driven Exercise"
   ]
  },
  {
   "cell_type": "code",
   "execution_count": null,
   "metadata": {},
   "outputs": [],
   "source": [
    "from tx import TxIn\n",
    "\n",
    "class TxIn(TxIn):\n",
    "\n",
    "    def value(self, testnet=False):\n",
    "        '''Get the outpoint value by looking up the tx hash on libbitcoin server\n",
    "        Returns the amount in satoshi\n",
    "        '''\n",
    "        # use self.fetch_tx to get the transaction\n",
    "        tx = self.fetch_tx(testnet=testnet)\n",
    "        # get the output at self.prev_index\n",
    "        # return the amount property\n",
    "        return tx.tx_outs[self.prev_index].amount\n",
    "\n",
    "    def script_pubkey(self, testnet=False):\n",
    "        '''Get the scriptPubKey by looking up the tx hash on libbitcoin server\n",
    "        Returns the binary scriptpubkey\n",
    "        '''\n",
    "        # use self.fetch_tx to get the transaction\n",
    "        tx = self.fetch_tx(testnet=testnet)\n",
    "        # get the output at self.prev_index\n",
    "        # return the script_pubkey property and serialize\n",
    "        return tx.tx_outs[self.prev_index].script_pubkey"
   ]
  }
 ],
 "metadata": {
  "kernelspec": {
   "display_name": "Python 3",
   "language": "python",
   "name": "python3"
  },
  "language_info": {
   "codemirror_mode": {
    "name": "ipython",
    "version": 3
   },
   "file_extension": ".py",
   "mimetype": "text/x-python",
   "name": "python",
   "nbconvert_exporter": "python",
   "pygments_lexer": "ipython3",
   "version": "3.6.4"
  }
 },
 "nbformat": 4,
 "nbformat_minor": 2
}
